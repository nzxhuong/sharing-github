{
 "cells": [
  {
   "cell_type": "markdown",
   "id": "fadead1f-847c-4858-a319-c04f390f2f19",
   "metadata": {
    "tags": []
   },
   "source": [
    "# My Jupyter Notebook on IBM Watson Studio"
   ]
  },
  {
   "cell_type": "markdown",
   "id": "3f62c09b-a4e5-4656-b0c8-b15106344f54",
   "metadata": {},
   "source": [
    "<b>Ngo Truong</b>"
   ]
  },
  {
   "cell_type": "markdown",
   "id": "efb57294-1c26-474c-a331-b93e93b42cc0",
   "metadata": {},
   "source": [
    "<i>Data Scientist</i>\n",
    "\n",
    "<i>I am interested in Data Science because I would love to contribute towards affordable and quality healthcare in the future</i>"
   ]
  },
  {
   "cell_type": "markdown",
   "id": "fcdfea3c-2d31-4fd3-bdd2-15480863ab00",
   "metadata": {},
   "source": [
    "### The below should print ‘Hello World’"
   ]
  },
  {
   "cell_type": "code",
   "execution_count": 1,
   "id": "b03afe80-8dc8-4bc9-b310-7c80da63d512",
   "metadata": {},
   "outputs": [
    {
     "name": "stdout",
     "output_type": "stream",
     "text": [
      "2\n"
     ]
    }
   ],
   "source": [
    "print(1+1)"
   ]
  },
  {
   "cell_type": "markdown",
   "id": "1327d074-232a-41cb-ae38-9011f604fe84",
   "metadata": {},
   "source": [
    "<ul>\n",
    "<li>1</li>\n",
    "<li>2</li>\n",
    "<li>3</li>\n",
    "<li>1</li>\n",
    "<li>2</li>\n",
    "<li>3</li>\n",
    "</ul>\n",
    "\n"
   ]
  },
  {
   "cell_type": "code",
   "execution_count": null,
   "id": "93047a6b-ddd3-4312-abe3-870352e08c85",
   "metadata": {},
   "outputs": [],
   "source": []
  },
  {
   "cell_type": "code",
   "execution_count": null,
   "id": "a4b6341a-372e-44a4-8e2a-3c98cf4fb0a1",
   "metadata": {},
   "outputs": [],
   "source": []
  }
 ],
 "metadata": {
  "kernelspec": {
   "display_name": "Python 3 (ipykernel)",
   "language": "python",
   "name": "python3"
  },
  "language_info": {
   "codemirror_mode": {
    "name": "ipython",
    "version": 3
   },
   "file_extension": ".py",
   "mimetype": "text/x-python",
   "name": "python",
   "nbconvert_exporter": "python",
   "pygments_lexer": "ipython3",
   "version": "3.9.13"
  }
 },
 "nbformat": 4,
 "nbformat_minor": 5
}
